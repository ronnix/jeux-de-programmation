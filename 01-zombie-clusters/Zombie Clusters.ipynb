{
 "cells": [
  {
   "cell_type": "markdown",
   "metadata": {},
   "source": [
    "# Zombie Clusters\n",
    "\n",
    "Partons d’une invasion de zombies. Nous travaillons pour un organisme de santé qui, pour mesurer l’ampleur de la contamination a besoin de déterminer les foyers de propagation. La propagation part d’un zombie qui contamine ses voisins sur un quadrillage. Il peut les contaminer « à gauche », « à droite », « en haut » et « en bas » (donc pas en diagonale).\n",
    "\n",
    "Pour donner un exemple, il y a ici deux foyers de propagation (un `0` indique un secteur sain, un `1` indique un secteur contaminé) :\n",
    "\n",
    "```\n",
    "0 0 0 0 1\n",
    "0 0 1 1 1\n",
    "1 1 0 0 0\n",
    "1 1 1 0 0\n",
    "```\n",
    "\n",
    "Les données sont structurées dans un tableau de chaînes (un élément par ligne, chaque ligne est représentée par une chaîne). Pour l’exemple ci-dessus :\n",
    "\n",
    "```\n",
    "val data = Array(\n",
    "    \"00001\",\n",
    "    \"00111\",\n",
    "    \"11000\",\n",
    "    \"11100\"\n",
    ")\n",
    "```\n",
    "\n",
    "On partira d’une fonction avec une signature de ce genre :\n",
    "\n",
    "```\n",
    "def countClusters(data: Array[String]): Int = ???\n",
    "```\n",
    "\n",
    "(la signature est en Scala mais peu importe le langage, en pratique)"
   ]
  },
  {
   "cell_type": "markdown",
   "metadata": {},
   "source": [
    "----"
   ]
  },
  {
   "cell_type": "markdown",
   "metadata": {},
   "source": [
    "Représentons les données comme un tableau de chaînes :"
   ]
  },
  {
   "cell_type": "code",
   "execution_count": 16,
   "metadata": {},
   "outputs": [],
   "source": [
    "data = [\n",
    "    \"00001\",\n",
    "    \"00111\",\n",
    "    \"11000\",\n",
    "    \"11101\",\n",
    "]"
   ]
  },
  {
   "cell_type": "markdown",
   "metadata": {},
   "source": [
    "J'ai envie de ramener le problème à un problème de graphes : compter le nombre de clusters revient à compter le nombre de composantes fortement connexes dans le graphe.\n",
    "\n",
    "Un noeud sera représenté par ses coordonnées dans la grille : une paire d'entiers.\n",
    "\n",
    "Le graphe sera représenté par un dictionnaire, dont les clés sont les noeuds et les valeurs les successeurs de ce noeud (ses voisins directement contaminés)."
   ]
  },
  {
   "cell_type": "code",
   "execution_count": 17,
   "metadata": {},
   "outputs": [],
   "source": [
    "from typing import Dict, List, Set, Tuple\n",
    "\n",
    "\n",
    "Node = Tuple[int, int]\n",
    "\n",
    "Graph = Dict[Node, Set[Node]]"
   ]
  },
  {
   "cell_type": "markdown",
   "metadata": {},
   "source": [
    "On peut commencer par construire l'ensemble des noeuds à partir de notre liste de chaînes :"
   ]
  },
  {
   "cell_type": "code",
   "execution_count": 18,
   "metadata": {},
   "outputs": [
    {
     "data": {
      "text/plain": [
       "{(0, 2),\n",
       " (0, 3),\n",
       " (1, 2),\n",
       " (1, 3),\n",
       " (2, 1),\n",
       " (2, 3),\n",
       " (3, 1),\n",
       " (4, 0),\n",
       " (4, 1),\n",
       " (4, 3)}"
      ]
     },
     "execution_count": 18,
     "metadata": {},
     "output_type": "execute_result"
    }
   ],
   "source": [
    "def nodes(lines: List[str]) -> Set[Node]:\n",
    "    return {\n",
    "        (x, y)\n",
    "        for y, line in enumerate(lines)\n",
    "        for x, char in enumerate(line)\n",
    "        if char == \"1\"\n",
    "    }\n",
    "\n",
    "\n",
    "nodes(data)"
   ]
  },
  {
   "cell_type": "markdown",
   "metadata": {},
   "source": [
    "On peut ensuite construire le graphe lui-même :"
   ]
  },
  {
   "cell_type": "code",
   "execution_count": 19,
   "metadata": {},
   "outputs": [
    {
     "data": {
      "text/plain": [
       "defaultdict(set,\n",
       "            {(1, 2): {(0, 2), (1, 3)},\n",
       "             (1, 3): {(0, 3), (1, 2), (2, 3)},\n",
       "             (0, 2): {(0, 3), (1, 2)},\n",
       "             (0, 3): {(0, 2), (1, 3)},\n",
       "             (2, 3): {(1, 3)},\n",
       "             (3, 1): {(2, 1), (4, 1)},\n",
       "             (2, 1): {(3, 1)},\n",
       "             (4, 1): {(3, 1), (4, 0)},\n",
       "             (4, 3): set(),\n",
       "             (4, 0): {(4, 1)}})"
      ]
     },
     "execution_count": 19,
     "metadata": {},
     "output_type": "execute_result"
    }
   ],
   "source": [
    "from collections import defaultdict\n",
    "\n",
    "\n",
    "def make_graph(lines: List[str]) -> Graph:\n",
    "    first_col, last_col = 0, array_width(lines) - 1\n",
    "    first_line, last_line = 0, array_height(lines) - 1\n",
    "\n",
    "    edges = defaultdict(set)\n",
    "\n",
    "    for (x, y) in nodes(lines):\n",
    "\n",
    "        # add key for node\n",
    "        edges.setdefault((x, y), set())\n",
    "\n",
    "        # add edges to/from node above?\n",
    "        if y > first_line and lines[y - 1][x] == \"1\":\n",
    "            edges[(x, y)].add((x, y - 1))\n",
    "            edges[(x, y - 1)].add((x, y))\n",
    "\n",
    "        # add edges to/from node below?\n",
    "        if y < last_line and lines[y + 1][x] == \"1\":\n",
    "            edges[(x, y)].add((x, y + 1))\n",
    "            edges[(x, y + 1)].add((x, y))\n",
    "\n",
    "        # add edges to/from node left?\n",
    "        if x > first_col and lines[y][x - 1] == \"1\":\n",
    "            edges[(x, y)].add((x - 1, y))\n",
    "            edges[(x - 1, y)].add((x, y))\n",
    "\n",
    "        # add edges to/from node right?\n",
    "        if x < last_col and lines[y][x + 1] == \"1\":\n",
    "            edges[(x, y)].add((x + 1, y))\n",
    "            edges[(x + 1, y)].add((x, y))\n",
    "\n",
    "    return edges\n",
    "\n",
    "\n",
    "def array_width(lines: List[str]) -> int:\n",
    "    if lines:\n",
    "        return len(lines[0])\n",
    "    return 0\n",
    "\n",
    "\n",
    "def array_height(lines: List[str]) -> int:\n",
    "    return len(lines)\n",
    "\n",
    "\n",
    "make_graph(data)"
   ]
  },
  {
   "cell_type": "code",
   "execution_count": 20,
   "metadata": {},
   "outputs": [
    {
     "data": {
      "text/plain": [
       "defaultdict(set,\n",
       "            {(1, 2): {(0, 2), (0, 3), (1, 2), (1, 3), (2, 3)},\n",
       "             (1, 3): {(0, 2), (0, 3), (1, 2), (1, 3), (2, 3)},\n",
       "             (0, 2): {(0, 2), (0, 3), (1, 2), (1, 3), (2, 3)},\n",
       "             (0, 3): {(0, 2), (0, 3), (1, 2), (1, 3), (2, 3)},\n",
       "             (2, 3): {(0, 2), (0, 3), (1, 2), (1, 3), (2, 3)},\n",
       "             (3, 1): {(2, 1), (3, 1), (4, 0), (4, 1)},\n",
       "             (2, 1): {(2, 1), (3, 1), (4, 0), (4, 1)},\n",
       "             (4, 1): {(2, 1), (3, 1), (4, 0), (4, 1)},\n",
       "             (4, 3): set(),\n",
       "             (4, 0): {(2, 1), (3, 1), (4, 0), (4, 1)}})"
      ]
     },
     "execution_count": 20,
     "metadata": {},
     "output_type": "execute_result"
    }
   ],
   "source": [
    "def transitive_closure(graph: Graph) -> Graph:\n",
    "    \"\"\"Algorithme de Roy-Warshall\"\"\"\n",
    "    g = graph.copy()\n",
    "    for x in graph:\n",
    "        for y in graph:\n",
    "            if x in graph[y]:\n",
    "                for z in graph:\n",
    "                    if z in graph[x]:\n",
    "                        g[y].add(z)\n",
    "    return g\n",
    "\n",
    "\n",
    "\n",
    "transitive_closure(make_graph(data))"
   ]
  },
  {
   "cell_type": "code",
   "execution_count": 21,
   "metadata": {},
   "outputs": [
    {
     "data": {
      "text/plain": [
       "{frozenset({(4, 3)}),\n",
       " frozenset({(2, 1), (3, 1), (4, 0), (4, 1)}),\n",
       " frozenset({(0, 2), (0, 3), (1, 2), (1, 3), (2, 3)})}"
      ]
     },
     "execution_count": 21,
     "metadata": {},
     "output_type": "execute_result"
    }
   ],
   "source": [
    "def connected_components(graph: Graph) -> List[Set[Node]]:\n",
    "    return set(\n",
    "        frozenset({node} | successors)\n",
    "        for node, successors in transitive_closure(graph).items()\n",
    "    )\n",
    "\n",
    "\n",
    "graph = make_graph(data)\n",
    "connected_components(graph)"
   ]
  },
  {
   "cell_type": "markdown",
   "metadata": {},
   "source": [
    "Pour connaître le nombre de foyers de contamination de zombies, on n'a maintenant qu'à compter le nombre de composantes connexes de notre graphe :"
   ]
  },
  {
   "cell_type": "code",
   "execution_count": 22,
   "metadata": {},
   "outputs": [
    {
     "name": "stdout",
     "output_type": "stream",
     "text": [
      "3\n"
     ]
    }
   ],
   "source": [
    "def count_clusters(data: List[str]) -> int:\n",
    "    return len(connected_components(make_graph(data)))\n",
    "\n",
    "\n",
    "print(count_clusters(data))"
   ]
  },
  {
   "cell_type": "markdown",
   "metadata": {},
   "source": [
    "Quelques tests..."
   ]
  },
  {
   "cell_type": "code",
   "execution_count": 23,
   "metadata": {},
   "outputs": [],
   "source": [
    "assert count_clusters([]) == 0"
   ]
  },
  {
   "cell_type": "code",
   "execution_count": 24,
   "metadata": {},
   "outputs": [],
   "source": [
    "assert count_clusters([\"\"]) == 0"
   ]
  },
  {
   "cell_type": "code",
   "execution_count": 25,
   "metadata": {},
   "outputs": [],
   "source": [
    "assert count_clusters([\"0\"]) == 0"
   ]
  },
  {
   "cell_type": "code",
   "execution_count": 26,
   "metadata": {},
   "outputs": [],
   "source": [
    "assert count_clusters([\"1\"]) == 1"
   ]
  },
  {
   "cell_type": "code",
   "execution_count": 27,
   "metadata": {},
   "outputs": [],
   "source": [
    "assert count_clusters([\"101\"]) == 2"
   ]
  },
  {
   "cell_type": "code",
   "execution_count": 28,
   "metadata": {},
   "outputs": [],
   "source": [
    "assert count_clusters([\"1010011\"]) == 3"
   ]
  },
  {
   "cell_type": "code",
   "execution_count": 29,
   "metadata": {},
   "outputs": [],
   "source": [
    "assert count_clusters([\n",
    "    \"101\",\n",
    "    \"010\",\n",
    "]) == 3"
   ]
  },
  {
   "cell_type": "code",
   "execution_count": 30,
   "metadata": {},
   "outputs": [],
   "source": [
    "assert count_clusters([\n",
    "    \"111\",\n",
    "    \"111\",\n",
    "    \"000\",\n",
    "    \"111\",\n",
    "]) == 2"
   ]
  }
 ],
 "metadata": {
  "kernelspec": {
   "display_name": "Python 3",
   "language": "python",
   "name": "python3"
  },
  "language_info": {
   "codemirror_mode": {
    "name": "ipython",
    "version": 3
   },
   "file_extension": ".py",
   "mimetype": "text/x-python",
   "name": "python",
   "nbconvert_exporter": "python",
   "pygments_lexer": "ipython3",
   "version": "3.7.0"
  }
 },
 "nbformat": 4,
 "nbformat_minor": 2
}
